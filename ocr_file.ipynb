{
 "cells": [
  {
   "cell_type": "code",
   "execution_count": 5,
   "metadata": {},
   "outputs": [],
   "source": [
    "from PIL import Image\n",
    "import cv2\n",
    "import pytesseract\n",
    "import JSON\n",
    "image_path = \"C:/Users/anuj1/OneDrive/Desktop/OCR_learning/WhatsApp Image 2024-05-06 at 5.51.20 PM.jpeg\"\n",
    "im = Image.open(image_path)\n",
    "im.show()"
   ]
  },
  {
   "cell_type": "code",
   "execution_count": null,
   "metadata": {},
   "outputs": [],
   "source": [
    "#pytesseract.pytesseract.tesseract_cmd = r'C:\\Program Files\\Tesseract-OCR\\tesseract.exe'\n",
    "image_path1 = image_path = \"C:/Users/anuj1/OneDrive/Desktop/OCR_learning/invoice.jpg\"\n",
    "image = Image.open(image_path)\n",
    "\n",
    "# Use pytesseract to do OCR on the image\n",
    "text = pytesseract.image_to_string('image')\n",
    "\n",
    "\n",
    "\n",
    "\n"
   ]
  },
  {
   "cell_type": "code",
   "execution_count": 4,
   "metadata": {},
   "outputs": [],
   "source": [
    "def grayScale(image):\n",
    "    return cv2.cvtColor(image,cv2.Color_BGR2GRAY)\n",
    "    gray_image=grayScale(img)\n",
    "    cv2.imwrite(\"temp/gray C:/Users/anuj1/OneDrive/Desktop/OCR_learning/WhatsApp Image 2024-05-06 at 5.51.20 PM.jpeg\",gray_image)\n",
    "    display(\"temp/gray C:/Users/anuj1/OneDrive/Desktop/OCR_learning/WhatsApp Image 2024-05-06 at 5.51.20 PM.jpeg\")\n",
    "    "
   ]
  },
  {
   "cell_type": "code",
   "execution_count": null,
   "metadata": {},
   "outputs": [],
   "source": [
    "myjson={\n",
    "    \"name\":\"nishant\",\n",
    "    \"class\":\"BCA\"\n",
    "}\n",
    "JSON.parse(myjson);"
   ]
  },
  {
   "cell_type": "code",
   "execution_count": null,
   "metadata": {},
   "outputs": [],
   "source": []
  },
  {
   "cell_type": "code",
   "execution_count": null,
   "metadata": {},
   "outputs": [],
   "source": []
  }
 ],
 "metadata": {
  "kernelspec": {
   "display_name": "Python 3",
   "language": "python",
   "name": "python3"
  },
  "language_info": {
   "codemirror_mode": {
    "name": "ipython",
    "version": 3
   },
   "file_extension": ".py",
   "mimetype": "text/x-python",
   "name": "python",
   "nbconvert_exporter": "python",
   "pygments_lexer": "ipython3",
   "version": "3.10.7"
  }
 },
 "nbformat": 4,
 "nbformat_minor": 2
}
