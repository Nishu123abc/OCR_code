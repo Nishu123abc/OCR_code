{
 "cells": [
  {
   "cell_type": "code",
   "execution_count": 2,
   "metadata": {},
   "outputs": [],
   "source": [
    "from PIL import Image\n",
    "import cv2\n",
    "import pytesseract\n",
    "image_path = \"C:/Users/anuj1/OneDrive/Desktop/OCR_learning/WhatsApp Image 2024-05-06 at 5.51.20 PM.jpeg\"\n",
    "im = Image.open(image_path)\n",
    "im.show()"
   ]
  },
  {
   "cell_type": "code",
   "execution_count": 3,
   "metadata": {},
   "outputs": [
    {
     "name": "stdout",
     "output_type": "stream",
     "text": [
      "INVOICE\n",
      "\n",
      "‘# v-000001\n",
      "Balance Due\n",
      "$18,400.00\n",
      "Zylker Design Labs\n",
      "148, Northern Steet\n",
      "Greate South Avenue\n",
      "New York New York 10001\n",
      "Usa\n",
      "silt\n",
      "Jack Little\n",
      "5242 Chandler Hollow Road\n",
      "Pisburgh\n",
      "15222 Pennsyvania\n",
      "ShipTo\n",
      "4242 Chandler Hollow oad Invoice Date: 1eiay 2023\n",
      "iene aids Terms: ue on Receipt\n",
      "1 Brochure Design 1.00 900.00 0.00\n",
      "ochre deen Sng sed Colon\n",
      "2 Web Design packages simple) 1.00 1000000 1,000.00\n",
      "10 Pages se, re Log, Dyan Webste, Free Doma, Hosting Fee\n",
      "for ity\n",
      "3 —rintAd- Newspaper 100 750000 7500.00\n",
      "‘Nag a Natori Creuston Clon)\n",
      "‘ub Tota 1840000\n",
      "Taxa 5.00%\n",
      "‘Total $9320.00\n",
      "\n",
      "Balance Oue $19320.00\n",
      "\n",
      "Notes\n",
      "Thanks for your busines.\n",
      "\n",
      "Terms & Conditions\n",
      "-Atpaymertarmust be made fl before the commencement of ny devin wk\n",
      "\n",
      "\n"
     ]
    }
   ],
   "source": [
    "#pytesseract.pytesseract.tesseract_cmd = r'C:\\Program Files\\Tesseract-OCR\\tesseract.exe'\n",
    "image_path1 = image_path = \"C:/Users/anuj1/OneDrive/Desktop/OCR_learning/invoice.jpg\"\n",
    "image = Image.open(image_path)\n",
    "\n",
    "# Use pytesseract to do OCR on the image\n",
    "text = pytesseract.image_to_string(image)\n",
    "\n",
    "\n",
    "print(text)"
   ]
  }
 ],
 "metadata": {
  "kernelspec": {
   "display_name": "Python 3",
   "language": "python",
   "name": "python3"
  },
  "language_info": {
   "codemirror_mode": {
    "name": "ipython",
    "version": 3
   },
   "file_extension": ".py",
   "mimetype": "text/x-python",
   "name": "python",
   "nbconvert_exporter": "python",
   "pygments_lexer": "ipython3",
   "version": "3.10.7"
  }
 },
 "nbformat": 4,
 "nbformat_minor": 2
}
