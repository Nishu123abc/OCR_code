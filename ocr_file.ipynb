{
 "cells": [
  {
   "cell_type": "code",
   "execution_count": 10,
   "metadata": {},
   "outputs": [],
   "source": [
    "from PIL import Image\n",
    "import cv2\n",
    "import pytesseract\n",
    "import requests\n",
    "import json\n",
    "image_path = \"C:/Users/anuj1/OneDrive/Desktop/OCR_learning/WhatsApp Image 2024-05-06 at 5.51.20 PM.jpeg\"\n",
    "im = Image.open(image_path)\n",
    "im.show()"
   ]
  },
  {
   "cell_type": "code",
   "execution_count": null,
   "metadata": {},
   "outputs": [],
   "source": [
    "#pytesseract.pytesseract.tesseract_cmd = r'C:\\Program Files\\Tesseract-OCR\\tesseract.exe'\n",
    "image_path1 = image_path = \"C:/Users/anuj1/OneDrive/Desktop/OCR_learning/invoice.jpg\"\n",
    "image = Image.open(image_path)\n",
    "\n",
    "# Use pytesseract to do OCR on the image\n",
    "text = pytesseract.image_to_string(image)"
   ]
  },
  {
   "cell_type": "code",
   "execution_count": 44,
   "metadata": {},
   "outputs": [],
   "source": [
    "def grayScale(image):\n",
    "    return cv2.cvtColor(image,cv2.Color_BGR2GRAY)\n",
    "    gray_image=grayScale(img)\n",
    "    cv2.imwrite(\"temp/gray C:/Users/anuj1/OneDrive/Desktop/OCR_learning/WhatsApp Image 2024-05-06 at 5.51.20 PM.jpeg\",gray_image)\n",
    "    display(\"temp/gray C:/Users/anuj1/OneDrive/Desktop/OCR_learning/WhatsApp Image 2024-05-06 at 5.51.20 PM.jpeg\")\n",
    "    "
   ]
  },
  {
   "cell_type": "code",
   "execution_count": 58,
   "metadata": {},
   "outputs": [
    {
     "name": "stdout",
     "output_type": "stream",
     "text": [
      "{\"name\": \"John\", \"age\": 30, \"city\": \"New York\"}\n"
     ]
    }
   ],
   "source": [
    "# import json\n",
    "x = {\n",
    "  \"name\": \"John\",\n",
    "  \"age\": 30,\n",
    "  \"city\": \"New York\"\n",
    "}\n",
    "y = json.dumps(x)\n",
    "print(y)"
   ]
  },
  {
   "cell_type": "code",
   "execution_count": null,
   "metadata": {},
   "outputs": [],
   "source": [
    "\n",
    "\n",
    "x = requests.get('https://youtube.com')\n",
    "print(x.status_code)\n",
    "print(x.text)\n",
    "\n"
   ]
  },
  {
   "cell_type": "code",
   "execution_count": 8,
   "metadata": {},
   "outputs": [
    {
     "name": "stdout",
     "output_type": "stream",
     "text": [
      "Status Code 200\n",
      "Request was successful!\n"
     ]
    }
   ],
   "source": [
    "\n",
    "response = requests.get(\"https://youtube.com\")\n",
    "status_code = response.status_code\n",
    "# print(\"Status Code: {status_code}\")\n",
    "print(f\"Status Code {status_code}\")\n",
    "\n",
    "if status_code == 200:\n",
    "    print(\"Request was successful!\")\n",
    "elif status_code == 404:\n",
    "    print(\"Resource not found.\")\n",
    "\n"
   ]
  },
  {
   "cell_type": "markdown",
   "metadata": {},
   "source": []
  },
  {
   "cell_type": "code",
   "execution_count": 4,
   "metadata": {},
   "outputs": [
    {
     "name": "stdout",
     "output_type": "stream",
     "text": [
      "{'my_key': 'Hello, World'}\n"
     ]
    }
   ],
   "source": [
    "# import json\n",
    "\n",
    "# json ={\n",
    "#     \"my_key\": \"Hello, World\"\n",
    "# }\n",
    "\n",
    "# response = requests.put(\"https://httpbin.org/put\", json=json)\n",
    "\n",
    "# print(response.json()[\"json\"])"
   ]
  },
  {
   "cell_type": "code",
   "execution_count": null,
   "metadata": {},
   "outputs": [],
   "source": []
  },
  {
   "cell_type": "code",
   "execution_count": null,
   "metadata": {},
   "outputs": [],
   "source": []
  }
 ],
 "metadata": {
  "kernelspec": {
   "display_name": "Python 3",
   "language": "python",
   "name": "python3"
  },
  "language_info": {
   "codemirror_mode": {
    "name": "ipython",
    "version": 3
   },
   "file_extension": ".py",
   "mimetype": "text/x-python",
   "name": "python",
   "nbconvert_exporter": "python",
   "pygments_lexer": "ipython3",
   "version": "3.10.7"
  }
 },
 "nbformat": 4,
 "nbformat_minor": 2
}
